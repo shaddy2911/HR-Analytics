{
  "nbformat": 4,
  "nbformat_minor": 0,
  "metadata": {
    "colab": {
      "name": "HR_Analytics.ipynb",
      "provenance": [],
      "collapsed_sections": [],
      "authorship_tag": "ABX9TyPfmuGW+7Y1cyxYdn1m+Byt"
    },
    "kernelspec": {
      "name": "python3",
      "display_name": "Python 3"
    },
    "language_info": {
      "name": "python"
    }
  },
  "cells": [
    {
      "cell_type": "code",
      "metadata": {
        "colab": {
          "resources": {
            "http://localhost:8080/nbextensions/google.colab/files.js": {
              "data": "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",
              "ok": true,
              "headers": [
                [
                  "content-type",
                  "application/javascript"
                ]
              ],
              "status": 200,
              "status_text": ""
            }
          },
          "base_uri": "https://localhost:8080/",
          "height": 73
        },
        "id": "tD2sanRpr1my",
        "outputId": "6024665e-b9d1-49a2-9206-79f4508093e1"
      },
      "source": [
        "from google.colab import files\n",
        "a=files.upload()"
      ],
      "execution_count": null,
      "outputs": [
        {
          "output_type": "display_data",
          "data": {
            "text/html": [
              "\n",
              "     <input type=\"file\" id=\"files-f35c41c4-3c1e-4165-ac6a-4c173ac63f53\" name=\"files[]\" multiple disabled\n",
              "        style=\"border:none\" />\n",
              "     <output id=\"result-f35c41c4-3c1e-4165-ac6a-4c173ac63f53\">\n",
              "      Upload widget is only available when the cell has been executed in the\n",
              "      current browser session. Please rerun this cell to enable.\n",
              "      </output>\n",
              "      <script src=\"/nbextensions/google.colab/files.js\"></script> "
            ],
            "text/plain": [
              "<IPython.core.display.HTML object>"
            ]
          },
          "metadata": {
            "tags": []
          }
        },
        {
          "output_type": "stream",
          "text": [
            "Saving aug_train.csv to aug_train.csv\n"
          ],
          "name": "stdout"
        }
      ]
    },
    {
      "cell_type": "code",
      "metadata": {
        "id": "SjG309UIsPNP"
      },
      "source": [
        "import pandas as pd\n",
        "import numpy as np\n",
        "import matplotlib.pyplot as plt\n",
        "%matplotlib inline\n",
        "from sklearn.preprocessing import StandardScaler, OneHotEncoder\n",
        "from sklearn.model_selection import train_test_split\n",
        "from sklearn.compose import ColumnTransformer\n",
        "from sklearn.pipeline import Pipeline\n",
        "\n",
        "from sklearn.ensemble import RandomForestClassifier\n",
        "from sklearn.linear_model  import LogisticRegression\n",
        "\n"
      ],
      "execution_count": null,
      "outputs": []
    },
    {
      "cell_type": "code",
      "metadata": {
        "id": "oSbk6UAOudk4"
      },
      "source": [
        "df=pd.read_csv('/content/aug_train.csv')"
      ],
      "execution_count": null,
      "outputs": []
    },
    {
      "cell_type": "code",
      "metadata": {
        "colab": {
          "base_uri": "https://localhost:8080/",
          "height": 257
        },
        "id": "IXmM-RG-uvbW",
        "outputId": "3709618c-4848-447e-ad16-e43b9392a30e"
      },
      "source": [
        "df.head()"
      ],
      "execution_count": null,
      "outputs": [
        {
          "output_type": "execute_result",
          "data": {
            "text/html": [
              "<div>\n",
              "<style scoped>\n",
              "    .dataframe tbody tr th:only-of-type {\n",
              "        vertical-align: middle;\n",
              "    }\n",
              "\n",
              "    .dataframe tbody tr th {\n",
              "        vertical-align: top;\n",
              "    }\n",
              "\n",
              "    .dataframe thead th {\n",
              "        text-align: right;\n",
              "    }\n",
              "</style>\n",
              "<table border=\"1\" class=\"dataframe\">\n",
              "  <thead>\n",
              "    <tr style=\"text-align: right;\">\n",
              "      <th></th>\n",
              "      <th>enrollee_id</th>\n",
              "      <th>city</th>\n",
              "      <th>city_development_index</th>\n",
              "      <th>gender</th>\n",
              "      <th>relevent_experience</th>\n",
              "      <th>enrolled_university</th>\n",
              "      <th>education_level</th>\n",
              "      <th>major_discipline</th>\n",
              "      <th>experience</th>\n",
              "      <th>company_size</th>\n",
              "      <th>company_type</th>\n",
              "      <th>last_new_job</th>\n",
              "      <th>training_hours</th>\n",
              "      <th>target</th>\n",
              "    </tr>\n",
              "  </thead>\n",
              "  <tbody>\n",
              "    <tr>\n",
              "      <th>0</th>\n",
              "      <td>8949</td>\n",
              "      <td>city_103</td>\n",
              "      <td>0.920</td>\n",
              "      <td>Male</td>\n",
              "      <td>Has relevent experience</td>\n",
              "      <td>no_enrollment</td>\n",
              "      <td>Graduate</td>\n",
              "      <td>STEM</td>\n",
              "      <td>&gt;20</td>\n",
              "      <td>NaN</td>\n",
              "      <td>NaN</td>\n",
              "      <td>1</td>\n",
              "      <td>36</td>\n",
              "      <td>1.0</td>\n",
              "    </tr>\n",
              "    <tr>\n",
              "      <th>1</th>\n",
              "      <td>29725</td>\n",
              "      <td>city_40</td>\n",
              "      <td>0.776</td>\n",
              "      <td>Male</td>\n",
              "      <td>No relevent experience</td>\n",
              "      <td>no_enrollment</td>\n",
              "      <td>Graduate</td>\n",
              "      <td>STEM</td>\n",
              "      <td>15</td>\n",
              "      <td>50-99</td>\n",
              "      <td>Pvt Ltd</td>\n",
              "      <td>&gt;4</td>\n",
              "      <td>47</td>\n",
              "      <td>0.0</td>\n",
              "    </tr>\n",
              "    <tr>\n",
              "      <th>2</th>\n",
              "      <td>11561</td>\n",
              "      <td>city_21</td>\n",
              "      <td>0.624</td>\n",
              "      <td>NaN</td>\n",
              "      <td>No relevent experience</td>\n",
              "      <td>Full time course</td>\n",
              "      <td>Graduate</td>\n",
              "      <td>STEM</td>\n",
              "      <td>5</td>\n",
              "      <td>NaN</td>\n",
              "      <td>NaN</td>\n",
              "      <td>never</td>\n",
              "      <td>83</td>\n",
              "      <td>0.0</td>\n",
              "    </tr>\n",
              "    <tr>\n",
              "      <th>3</th>\n",
              "      <td>33241</td>\n",
              "      <td>city_115</td>\n",
              "      <td>0.789</td>\n",
              "      <td>NaN</td>\n",
              "      <td>No relevent experience</td>\n",
              "      <td>NaN</td>\n",
              "      <td>Graduate</td>\n",
              "      <td>Business Degree</td>\n",
              "      <td>&lt;1</td>\n",
              "      <td>NaN</td>\n",
              "      <td>Pvt Ltd</td>\n",
              "      <td>never</td>\n",
              "      <td>52</td>\n",
              "      <td>1.0</td>\n",
              "    </tr>\n",
              "    <tr>\n",
              "      <th>4</th>\n",
              "      <td>666</td>\n",
              "      <td>city_162</td>\n",
              "      <td>0.767</td>\n",
              "      <td>Male</td>\n",
              "      <td>Has relevent experience</td>\n",
              "      <td>no_enrollment</td>\n",
              "      <td>Masters</td>\n",
              "      <td>STEM</td>\n",
              "      <td>&gt;20</td>\n",
              "      <td>50-99</td>\n",
              "      <td>Funded Startup</td>\n",
              "      <td>4</td>\n",
              "      <td>8</td>\n",
              "      <td>0.0</td>\n",
              "    </tr>\n",
              "  </tbody>\n",
              "</table>\n",
              "</div>"
            ],
            "text/plain": [
              "   enrollee_id      city  ...  training_hours target\n",
              "0         8949  city_103  ...              36    1.0\n",
              "1        29725   city_40  ...              47    0.0\n",
              "2        11561   city_21  ...              83    0.0\n",
              "3        33241  city_115  ...              52    1.0\n",
              "4          666  city_162  ...               8    0.0\n",
              "\n",
              "[5 rows x 14 columns]"
            ]
          },
          "metadata": {
            "tags": []
          },
          "execution_count": 4
        }
      ]
    },
    {
      "cell_type": "code",
      "metadata": {
        "colab": {
          "base_uri": "https://localhost:8080/"
        },
        "id": "nxHzjYg0uxZD",
        "outputId": "95f5f52d-19e6-407d-d4b7-9ee6e6cdd9c3"
      },
      "source": [
        "df.dtypes.value_counts"
      ],
      "execution_count": null,
      "outputs": [
        {
          "output_type": "execute_result",
          "data": {
            "text/plain": [
              "<bound method IndexOpsMixin.value_counts of enrollee_id                 int64\n",
              "city                       object\n",
              "city_development_index    float64\n",
              "gender                     object\n",
              "relevent_experience        object\n",
              "enrolled_university        object\n",
              "education_level            object\n",
              "major_discipline           object\n",
              "experience                 object\n",
              "company_size               object\n",
              "company_type               object\n",
              "last_new_job               object\n",
              "training_hours              int64\n",
              "target                    float64\n",
              "dtype: object>"
            ]
          },
          "metadata": {
            "tags": []
          },
          "execution_count": 7
        }
      ]
    },
    {
      "cell_type": "markdown",
      "metadata": {
        "id": "t88AnDNDvRry"
      },
      "source": [
        "Here we can see only 3 columns with int and float data type (numeric data)\n"
      ]
    },
    {
      "cell_type": "code",
      "metadata": {
        "colab": {
          "base_uri": "https://localhost:8080/"
        },
        "id": "43gDYuOfveef",
        "outputId": "ffbdbf27-c6ab-4c4d-e567-a1cbe52bf7fd"
      },
      "source": [
        "df.isnull().sum()"
      ],
      "execution_count": null,
      "outputs": [
        {
          "output_type": "execute_result",
          "data": {
            "text/plain": [
              "enrollee_id                  0\n",
              "city                         0\n",
              "city_development_index       0\n",
              "gender                    4508\n",
              "relevent_experience          0\n",
              "enrolled_university        386\n",
              "education_level            460\n",
              "major_discipline          2813\n",
              "experience                  65\n",
              "company_size              5938\n",
              "company_type              6140\n",
              "last_new_job               423\n",
              "training_hours               0\n",
              "target                       0\n",
              "dtype: int64"
            ]
          },
          "metadata": {
            "tags": []
          },
          "execution_count": 8
        }
      ]
    },
    {
      "cell_type": "code",
      "metadata": {
        "colab": {
          "base_uri": "https://localhost:8080/"
        },
        "id": "_LT2RXYQvrkZ",
        "outputId": "b1ca052e-8165-47fa-a8f9-670ceb3aaa54"
      },
      "source": [
        "df.isnull().sum()"
      ],
      "execution_count": null,
      "outputs": [
        {
          "output_type": "execute_result",
          "data": {
            "text/plain": [
              "enrollee_id                  0\n",
              "city                         0\n",
              "city_development_index       0\n",
              "gender                    4508\n",
              "relevent_experience          0\n",
              "enrolled_university        386\n",
              "education_level            460\n",
              "major_discipline          2813\n",
              "experience                  65\n",
              "company_size              5938\n",
              "company_type              6140\n",
              "last_new_job               423\n",
              "training_hours               0\n",
              "target                       0\n",
              "dtype: int64"
            ]
          },
          "metadata": {
            "tags": []
          },
          "execution_count": 15
        }
      ]
    },
    {
      "cell_type": "code",
      "metadata": {
        "colab": {
          "base_uri": "https://localhost:8080/"
        },
        "id": "p7eKjzwjwQkr",
        "outputId": "f4f0c9ac-7444-4f89-b688-a7a72bb036d0"
      },
      "source": [
        "df.dropna(subset=['gender','company_size','company_type','major_discipline','enrolled_university']).isnull().sum()"
      ],
      "execution_count": null,
      "outputs": [
        {
          "output_type": "execute_result",
          "data": {
            "text/plain": [
              "enrollee_id                0\n",
              "city                       0\n",
              "city_development_index     0\n",
              "gender                     0\n",
              "relevent_experience        0\n",
              "enrolled_university        0\n",
              "education_level            0\n",
              "major_discipline           0\n",
              "experience                 6\n",
              "company_size               0\n",
              "company_type               0\n",
              "last_new_job              23\n",
              "training_hours             0\n",
              "target                     0\n",
              "dtype: int64"
            ]
          },
          "metadata": {
            "tags": []
          },
          "execution_count": 16
        }
      ]
    },
    {
      "cell_type": "code",
      "metadata": {
        "colab": {
          "base_uri": "https://localhost:8080/"
        },
        "id": "8TnvkPaGwuWo",
        "outputId": "adbca477-c2e7-4689-8df4-be0012b134e3"
      },
      "source": [
        "df.dropna().notnull().sum() \n",
        "df.dropna()['target'].value_counts()"
      ],
      "execution_count": null,
      "outputs": [
        {
          "output_type": "execute_result",
          "data": {
            "text/plain": [
              "0.0    7472\n",
              "1.0    1483\n",
              "Name: target, dtype: int64"
            ]
          },
          "metadata": {
            "tags": []
          },
          "execution_count": 17
        }
      ]
    },
    {
      "cell_type": "code",
      "metadata": {
        "colab": {
          "base_uri": "https://localhost:8080/"
        },
        "id": "OIlgQ44Mw8kZ",
        "outputId": "4be08924-13fe-4113-efdc-8bbf79179c71"
      },
      "source": [
        "df['target'].value_counts()/df['target'].value_counts().sum()"
      ],
      "execution_count": null,
      "outputs": [
        {
          "output_type": "execute_result",
          "data": {
            "text/plain": [
              "0.0    0.750652\n",
              "1.0    0.249348\n",
              "Name: target, dtype: float64"
            ]
          },
          "metadata": {
            "tags": []
          },
          "execution_count": 18
        }
      ]
    },
    {
      "cell_type": "code",
      "metadata": {
        "colab": {
          "base_uri": "https://localhost:8080/"
        },
        "id": "5gp_dSGHxQ7V",
        "outputId": "726036a9-135f-4d49-fcfe-20d6f7a10fc5"
      },
      "source": [
        "df.dropna()['target'].value_counts() /df.dropna()['target'].value_counts().sum()"
      ],
      "execution_count": null,
      "outputs": [
        {
          "output_type": "execute_result",
          "data": {
            "text/plain": [
              "0.0    0.834394\n",
              "1.0    0.165606\n",
              "Name: target, dtype: float64"
            ]
          },
          "metadata": {
            "tags": []
          },
          "execution_count": 19
        }
      ]
    },
    {
      "cell_type": "code",
      "metadata": {
        "id": "W7EuS_V5xm-H"
      },
      "source": [
        "df1=df.dropna()"
      ],
      "execution_count": null,
      "outputs": []
    },
    {
      "cell_type": "code",
      "metadata": {
        "colab": {
          "base_uri": "https://localhost:8080/",
          "height": 111
        },
        "id": "RUaZS3KEx1pq",
        "outputId": "cdbd2517-36c5-42d9-9db1-af9f39817754"
      },
      "source": [
        "df1[['city_development_index','training_hours']].corr()"
      ],
      "execution_count": null,
      "outputs": [
        {
          "output_type": "execute_result",
          "data": {
            "text/html": [
              "<div>\n",
              "<style scoped>\n",
              "    .dataframe tbody tr th:only-of-type {\n",
              "        vertical-align: middle;\n",
              "    }\n",
              "\n",
              "    .dataframe tbody tr th {\n",
              "        vertical-align: top;\n",
              "    }\n",
              "\n",
              "    .dataframe thead th {\n",
              "        text-align: right;\n",
              "    }\n",
              "</style>\n",
              "<table border=\"1\" class=\"dataframe\">\n",
              "  <thead>\n",
              "    <tr style=\"text-align: right;\">\n",
              "      <th></th>\n",
              "      <th>city_development_index</th>\n",
              "      <th>training_hours</th>\n",
              "    </tr>\n",
              "  </thead>\n",
              "  <tbody>\n",
              "    <tr>\n",
              "      <th>city_development_index</th>\n",
              "      <td>1.000000</td>\n",
              "      <td>-0.005134</td>\n",
              "    </tr>\n",
              "    <tr>\n",
              "      <th>training_hours</th>\n",
              "      <td>-0.005134</td>\n",
              "      <td>1.000000</td>\n",
              "    </tr>\n",
              "  </tbody>\n",
              "</table>\n",
              "</div>"
            ],
            "text/plain": [
              "                        city_development_index  training_hours\n",
              "city_development_index                1.000000       -0.005134\n",
              "training_hours                       -0.005134        1.000000"
            ]
          },
          "metadata": {
            "tags": []
          },
          "execution_count": 25
        }
      ]
    },
    {
      "cell_type": "markdown",
      "metadata": {
        "id": "9Ahc0XDJytJ5"
      },
      "source": [
        "There is almost no correlation in these two numeric features"
      ]
    },
    {
      "cell_type": "code",
      "metadata": {
        "colab": {
          "base_uri": "https://localhost:8080/"
        },
        "id": "Tb7g1FqdzPxq",
        "outputId": "1d47a410-7106-4d57-80ce-96be89a7bef6"
      },
      "source": [
        "df1['looking'] = df1['target']\n",
        "df1['notlooking'] = abs(df1['target'] - 1)\n",
        "df1 = df1.dropna()"
      ],
      "execution_count": null,
      "outputs": [
        {
          "output_type": "stream",
          "text": [
            "/usr/local/lib/python3.7/dist-packages/ipykernel_launcher.py:1: SettingWithCopyWarning: \n",
            "A value is trying to be set on a copy of a slice from a DataFrame.\n",
            "Try using .loc[row_indexer,col_indexer] = value instead\n",
            "\n",
            "See the caveats in the documentation: https://pandas.pydata.org/pandas-docs/stable/user_guide/indexing.html#returning-a-view-versus-a-copy\n",
            "  \"\"\"Entry point for launching an IPython kernel.\n",
            "/usr/local/lib/python3.7/dist-packages/ipykernel_launcher.py:2: SettingWithCopyWarning: \n",
            "A value is trying to be set on a copy of a slice from a DataFrame.\n",
            "Try using .loc[row_indexer,col_indexer] = value instead\n",
            "\n",
            "See the caveats in the documentation: https://pandas.pydata.org/pandas-docs/stable/user_guide/indexing.html#returning-a-view-versus-a-copy\n",
            "  \n"
          ],
          "name": "stderr"
        }
      ]
    },
    {
      "cell_type": "code",
      "metadata": {
        "colab": {
          "base_uri": "https://localhost:8080/",
          "height": 291
        },
        "id": "mv9gwZwuzmpF",
        "outputId": "9a4fcc22-4cb2-4e35-bc02-7019cbf82343"
      },
      "source": [
        "df1.head()"
      ],
      "execution_count": null,
      "outputs": [
        {
          "output_type": "execute_result",
          "data": {
            "text/html": [
              "<div>\n",
              "<style scoped>\n",
              "    .dataframe tbody tr th:only-of-type {\n",
              "        vertical-align: middle;\n",
              "    }\n",
              "\n",
              "    .dataframe tbody tr th {\n",
              "        vertical-align: top;\n",
              "    }\n",
              "\n",
              "    .dataframe thead th {\n",
              "        text-align: right;\n",
              "    }\n",
              "</style>\n",
              "<table border=\"1\" class=\"dataframe\">\n",
              "  <thead>\n",
              "    <tr style=\"text-align: right;\">\n",
              "      <th></th>\n",
              "      <th>enrollee_id</th>\n",
              "      <th>city</th>\n",
              "      <th>city_development_index</th>\n",
              "      <th>gender</th>\n",
              "      <th>relevent_experience</th>\n",
              "      <th>enrolled_university</th>\n",
              "      <th>education_level</th>\n",
              "      <th>major_discipline</th>\n",
              "      <th>experience</th>\n",
              "      <th>company_size</th>\n",
              "      <th>company_type</th>\n",
              "      <th>last_new_job</th>\n",
              "      <th>training_hours</th>\n",
              "      <th>target</th>\n",
              "      <th>looking</th>\n",
              "      <th>notlooking</th>\n",
              "    </tr>\n",
              "  </thead>\n",
              "  <tbody>\n",
              "    <tr>\n",
              "      <th>1</th>\n",
              "      <td>29725</td>\n",
              "      <td>city_40</td>\n",
              "      <td>0.776</td>\n",
              "      <td>Male</td>\n",
              "      <td>No relevent experience</td>\n",
              "      <td>no_enrollment</td>\n",
              "      <td>Graduate</td>\n",
              "      <td>STEM</td>\n",
              "      <td>15</td>\n",
              "      <td>50-99</td>\n",
              "      <td>Pvt Ltd</td>\n",
              "      <td>&gt;4</td>\n",
              "      <td>47</td>\n",
              "      <td>0.0</td>\n",
              "      <td>0.0</td>\n",
              "      <td>1.0</td>\n",
              "    </tr>\n",
              "    <tr>\n",
              "      <th>4</th>\n",
              "      <td>666</td>\n",
              "      <td>city_162</td>\n",
              "      <td>0.767</td>\n",
              "      <td>Male</td>\n",
              "      <td>Has relevent experience</td>\n",
              "      <td>no_enrollment</td>\n",
              "      <td>Masters</td>\n",
              "      <td>STEM</td>\n",
              "      <td>&gt;20</td>\n",
              "      <td>50-99</td>\n",
              "      <td>Funded Startup</td>\n",
              "      <td>4</td>\n",
              "      <td>8</td>\n",
              "      <td>0.0</td>\n",
              "      <td>0.0</td>\n",
              "      <td>1.0</td>\n",
              "    </tr>\n",
              "    <tr>\n",
              "      <th>7</th>\n",
              "      <td>402</td>\n",
              "      <td>city_46</td>\n",
              "      <td>0.762</td>\n",
              "      <td>Male</td>\n",
              "      <td>Has relevent experience</td>\n",
              "      <td>no_enrollment</td>\n",
              "      <td>Graduate</td>\n",
              "      <td>STEM</td>\n",
              "      <td>13</td>\n",
              "      <td>&lt;10</td>\n",
              "      <td>Pvt Ltd</td>\n",
              "      <td>&gt;4</td>\n",
              "      <td>18</td>\n",
              "      <td>1.0</td>\n",
              "      <td>1.0</td>\n",
              "      <td>0.0</td>\n",
              "    </tr>\n",
              "    <tr>\n",
              "      <th>8</th>\n",
              "      <td>27107</td>\n",
              "      <td>city_103</td>\n",
              "      <td>0.920</td>\n",
              "      <td>Male</td>\n",
              "      <td>Has relevent experience</td>\n",
              "      <td>no_enrollment</td>\n",
              "      <td>Graduate</td>\n",
              "      <td>STEM</td>\n",
              "      <td>7</td>\n",
              "      <td>50-99</td>\n",
              "      <td>Pvt Ltd</td>\n",
              "      <td>1</td>\n",
              "      <td>46</td>\n",
              "      <td>1.0</td>\n",
              "      <td>1.0</td>\n",
              "      <td>0.0</td>\n",
              "    </tr>\n",
              "    <tr>\n",
              "      <th>11</th>\n",
              "      <td>23853</td>\n",
              "      <td>city_103</td>\n",
              "      <td>0.920</td>\n",
              "      <td>Male</td>\n",
              "      <td>Has relevent experience</td>\n",
              "      <td>no_enrollment</td>\n",
              "      <td>Graduate</td>\n",
              "      <td>STEM</td>\n",
              "      <td>5</td>\n",
              "      <td>5000-9999</td>\n",
              "      <td>Pvt Ltd</td>\n",
              "      <td>1</td>\n",
              "      <td>108</td>\n",
              "      <td>0.0</td>\n",
              "      <td>0.0</td>\n",
              "      <td>1.0</td>\n",
              "    </tr>\n",
              "  </tbody>\n",
              "</table>\n",
              "</div>"
            ],
            "text/plain": [
              "    enrollee_id      city  city_development_index  ... target looking notlooking\n",
              "1         29725   city_40                   0.776  ...    0.0     0.0        1.0\n",
              "4           666  city_162                   0.767  ...    0.0     0.0        1.0\n",
              "7           402   city_46                   0.762  ...    1.0     1.0        0.0\n",
              "8         27107  city_103                   0.920  ...    1.0     1.0        0.0\n",
              "11        23853  city_103                   0.920  ...    0.0     0.0        1.0\n",
              "\n",
              "[5 rows x 16 columns]"
            ]
          },
          "metadata": {
            "tags": []
          },
          "execution_count": 29
        }
      ]
    },
    {
      "cell_type": "code",
      "metadata": {
        "colab": {
          "base_uri": "https://localhost:8080/"
        },
        "id": "fj9Ta3IRz9KV",
        "outputId": "95ecedd2-f2d1-43ca-82c5-993b9583d61f"
      },
      "source": [
        "df1.isnull().sum()"
      ],
      "execution_count": null,
      "outputs": [
        {
          "output_type": "execute_result",
          "data": {
            "text/plain": [
              "enrollee_id               0\n",
              "city                      0\n",
              "city_development_index    0\n",
              "gender                    0\n",
              "relevent_experience       0\n",
              "enrolled_university       0\n",
              "education_level           0\n",
              "major_discipline          0\n",
              "experience                0\n",
              "company_size              0\n",
              "company_type              0\n",
              "last_new_job              0\n",
              "training_hours            0\n",
              "target                    0\n",
              "looking                   0\n",
              "notlooking                0\n",
              "dtype: int64"
            ]
          },
          "metadata": {
            "tags": []
          },
          "execution_count": 30
        }
      ]
    },
    {
      "cell_type": "markdown",
      "metadata": {
        "id": "sbKnTWPf0Pvn"
      },
      "source": [
        "As it can be observed that I got rid of all the null values and data has shrinked, but not much as to impact the model, I could have used statistic imputation but chose not to because most of the null values were in categorical features, hence statistical imputation would not be much of a help."
      ]
    },
    {
      "cell_type": "code",
      "metadata": {
        "id": "b3uU77i61DsN"
      },
      "source": [
        "def generate_odds(df, feature):\n",
        "  df_odds = df1.groupby(feature)[['looking','notlooking']].sum()\n",
        "  df_odds['Ratio'] = df_odds['looking'] / df_odds['notlooking']\n",
        "  df_odds['looking_Total'] = df1['looking'].sum()\n",
        "  df_odds['notlooking_Total'] = df1['notlooking'].sum()\n",
        "  df_odds['Ratio_Total'] = df_odds[['looking']].sum()[0] / df_odds[['notlooking']].sum()[0] \n",
        "  df_odds['OR'] = df_odds['Ratio'] / df_odds['Ratio_Total']\n",
        "  df_odds['Index'] = df_odds['OR']*100-100\n",
        "  df_odds['Dist_looking'] = df_odds['looking']/df_odds['looking_Total']\n",
        "  df_odds['Dist_notlooking'] = df_odds['notlooking']/df_odds['notlooking_Total']\n",
        "  df_odds['WoE'] = np.log(df_odds['Dist_looking'] / df_odds['Dist_notlooking'])\n",
        "  df_odds['IV'] = (df_odds['Dist_looking'] - df_odds['Dist_notlooking']) * np.log(df_odds['Dist_looking'] / df_odds['Dist_notlooking'])\n",
        "  df_odds['Feature_name'] = feature\n",
        "  df_odds['Attribute']= df_odds.Feature_name + ' ' + df_odds.index\n",
        "  return df_odds\n"
      ],
      "execution_count": null,
      "outputs": []
    },
    {
      "cell_type": "code",
      "metadata": {
        "id": "IsG1dTgl4YIh"
      },
      "source": [
        "df_odd=pd.DataFrame([])"
      ],
      "execution_count": null,
      "outputs": []
    },
    {
      "cell_type": "code",
      "metadata": {
        "colab": {
          "base_uri": "https://localhost:8080/",
          "height": 32
        },
        "id": "zXdHtbN74lJX",
        "outputId": "eb261674-f64d-4388-9e6c-57d7ad7f046f"
      },
      "source": [
        "df_odd.head()"
      ],
      "execution_count": null,
      "outputs": [
        {
          "output_type": "execute_result",
          "data": {
            "text/html": [
              "<div>\n",
              "<style scoped>\n",
              "    .dataframe tbody tr th:only-of-type {\n",
              "        vertical-align: middle;\n",
              "    }\n",
              "\n",
              "    .dataframe tbody tr th {\n",
              "        vertical-align: top;\n",
              "    }\n",
              "\n",
              "    .dataframe thead th {\n",
              "        text-align: right;\n",
              "    }\n",
              "</style>\n",
              "<table border=\"1\" class=\"dataframe\">\n",
              "  <thead>\n",
              "    <tr style=\"text-align: right;\">\n",
              "      <th></th>\n",
              "    </tr>\n",
              "  </thead>\n",
              "  <tbody>\n",
              "  </tbody>\n",
              "</table>\n",
              "</div>"
            ],
            "text/plain": [
              "Empty DataFrame\n",
              "Columns: []\n",
              "Index: []"
            ]
          },
          "metadata": {
            "tags": []
          },
          "execution_count": 35
        }
      ]
    },
    {
      "cell_type": "code",
      "metadata": {
        "id": "tSa3dlmR4qb1"
      },
      "source": [
        "df_odd = generate_odds(df1,'gender')\n",
        "df_odd = df_odd.append(generate_odds(df1,'relevent_experience'))\n",
        "df_odd = df_odd.append(generate_odds(df1,'enrolled_university'))\n",
        "df_odd = df_odd.append(generate_odds(df1,'education_level'))\n",
        "df_odd = df_odd.append(generate_odds(df1,'major_discipline'))\n",
        "df_odd = df_odd.append(generate_odds(df1,'experience'))\n",
        "df_odd = df_odd.append(generate_odds(df1,'company_size'))\n",
        "df_odd = df_odd.append(generate_odds(df1,'company_type'))\n",
        "df_odd = df_odd.append(generate_odds(df1,'last_new_job'))"
      ],
      "execution_count": null,
      "outputs": []
    },
    {
      "cell_type": "code",
      "metadata": {
        "colab": {
          "base_uri": "https://localhost:8080/",
          "height": 1000
        },
        "id": "NQ_YolCI5Edu",
        "outputId": "8af389f8-0169-411c-d070-2bb4c16787d3"
      },
      "source": [
        "df_odd.sort_values(by='Index')"
      ],
      "execution_count": null,
      "outputs": [
        {
          "output_type": "execute_result",
          "data": {
            "text/html": [
              "<div>\n",
              "<style scoped>\n",
              "    .dataframe tbody tr th:only-of-type {\n",
              "        vertical-align: middle;\n",
              "    }\n",
              "\n",
              "    .dataframe tbody tr th {\n",
              "        vertical-align: top;\n",
              "    }\n",
              "\n",
              "    .dataframe thead th {\n",
              "        text-align: right;\n",
              "    }\n",
              "</style>\n",
              "<table border=\"1\" class=\"dataframe\">\n",
              "  <thead>\n",
              "    <tr style=\"text-align: right;\">\n",
              "      <th></th>\n",
              "      <th>looking</th>\n",
              "      <th>notlooking</th>\n",
              "      <th>Ratio</th>\n",
              "      <th>looking_Total</th>\n",
              "      <th>notlooking_Total</th>\n",
              "      <th>Ratio_Total</th>\n",
              "      <th>OR</th>\n",
              "      <th>Index</th>\n",
              "      <th>Dist_looking</th>\n",
              "      <th>Dist_notlooking</th>\n",
              "      <th>WoE</th>\n",
              "      <th>IV</th>\n",
              "      <th>Feature_name</th>\n",
              "      <th>Attribute</th>\n",
              "    </tr>\n",
              "  </thead>\n",
              "  <tbody>\n",
              "    <tr>\n",
              "      <th>Arts</th>\n",
              "      <td>9.0</td>\n",
              "      <td>120.0</td>\n",
              "      <td>0.075000</td>\n",
              "      <td>1483.0</td>\n",
              "      <td>7472.0</td>\n",
              "      <td>0.198474</td>\n",
              "      <td>0.377883</td>\n",
              "      <td>-62.211733</td>\n",
              "      <td>0.006069</td>\n",
              "      <td>0.016060</td>\n",
              "      <td>-0.973172</td>\n",
              "      <td>0.009723</td>\n",
              "      <td>major_discipline</td>\n",
              "      <td>major_discipline Arts</td>\n",
              "    </tr>\n",
              "    <tr>\n",
              "      <th>18</th>\n",
              "      <td>12.0</td>\n",
              "      <td>156.0</td>\n",
              "      <td>0.076923</td>\n",
              "      <td>1483.0</td>\n",
              "      <td>7472.0</td>\n",
              "      <td>0.198474</td>\n",
              "      <td>0.387572</td>\n",
              "      <td>-61.242803</td>\n",
              "      <td>0.008092</td>\n",
              "      <td>0.020878</td>\n",
              "      <td>-0.947854</td>\n",
              "      <td>0.012119</td>\n",
              "      <td>experience</td>\n",
              "      <td>experience 18</td>\n",
              "    </tr>\n",
              "    <tr>\n",
              "      <th>&gt;20</th>\n",
              "      <td>144.0</td>\n",
              "      <td>1737.0</td>\n",
              "      <td>0.082902</td>\n",
              "      <td>1483.0</td>\n",
              "      <td>7472.0</td>\n",
              "      <td>0.198474</td>\n",
              "      <td>0.417694</td>\n",
              "      <td>-58.230586</td>\n",
              "      <td>0.097100</td>\n",
              "      <td>0.232468</td>\n",
              "      <td>-0.873006</td>\n",
              "      <td>0.118177</td>\n",
              "      <td>experience</td>\n",
              "      <td>experience &gt;20</td>\n",
              "    </tr>\n",
              "    <tr>\n",
              "      <th>19</th>\n",
              "      <td>14.0</td>\n",
              "      <td>165.0</td>\n",
              "      <td>0.084848</td>\n",
              "      <td>1483.0</td>\n",
              "      <td>7472.0</td>\n",
              "      <td>0.198474</td>\n",
              "      <td>0.427504</td>\n",
              "      <td>-57.249637</td>\n",
              "      <td>0.009440</td>\n",
              "      <td>0.022082</td>\n",
              "      <td>-0.849793</td>\n",
              "      <td>0.010743</td>\n",
              "      <td>experience</td>\n",
              "      <td>experience 19</td>\n",
              "    </tr>\n",
              "    <tr>\n",
              "      <th>20</th>\n",
              "      <td>7.0</td>\n",
              "      <td>79.0</td>\n",
              "      <td>0.088608</td>\n",
              "      <td>1483.0</td>\n",
              "      <td>7472.0</td>\n",
              "      <td>0.198474</td>\n",
              "      <td>0.446444</td>\n",
              "      <td>-55.355634</td>\n",
              "      <td>0.004720</td>\n",
              "      <td>0.010573</td>\n",
              "      <td>-0.806442</td>\n",
              "      <td>0.004720</td>\n",
              "      <td>experience</td>\n",
              "      <td>experience 20</td>\n",
              "    </tr>\n",
              "    <tr>\n",
              "      <th>16</th>\n",
              "      <td>30.0</td>\n",
              "      <td>274.0</td>\n",
              "      <td>0.109489</td>\n",
              "      <td>1483.0</td>\n",
              "      <td>7472.0</td>\n",
              "      <td>0.198474</td>\n",
              "      <td>0.551654</td>\n",
              "      <td>-44.834647</td>\n",
              "      <td>0.020229</td>\n",
              "      <td>0.036670</td>\n",
              "      <td>-0.594835</td>\n",
              "      <td>0.009780</td>\n",
              "      <td>experience</td>\n",
              "      <td>experience 16</td>\n",
              "    </tr>\n",
              "    <tr>\n",
              "      <th>Humanities</th>\n",
              "      <td>40.0</td>\n",
              "      <td>338.0</td>\n",
              "      <td>0.118343</td>\n",
              "      <td>1483.0</td>\n",
              "      <td>7472.0</td>\n",
              "      <td>0.198474</td>\n",
              "      <td>0.596265</td>\n",
              "      <td>-40.373543</td>\n",
              "      <td>0.026972</td>\n",
              "      <td>0.045236</td>\n",
              "      <td>-0.517071</td>\n",
              "      <td>0.009443</td>\n",
              "      <td>major_discipline</td>\n",
              "      <td>major_discipline Humanities</td>\n",
              "    </tr>\n",
              "    <tr>\n",
              "      <th>Other</th>\n",
              "      <td>19.0</td>\n",
              "      <td>158.0</td>\n",
              "      <td>0.120253</td>\n",
              "      <td>1483.0</td>\n",
              "      <td>7472.0</td>\n",
              "      <td>0.198474</td>\n",
              "      <td>0.605888</td>\n",
              "      <td>-39.411217</td>\n",
              "      <td>0.012812</td>\n",
              "      <td>0.021146</td>\n",
              "      <td>-0.501060</td>\n",
              "      <td>0.004176</td>\n",
              "      <td>major_discipline</td>\n",
              "      <td>major_discipline Other</td>\n",
              "    </tr>\n",
              "    <tr>\n",
              "      <th>&gt;4</th>\n",
              "      <td>223.0</td>\n",
              "      <td>1742.0</td>\n",
              "      <td>0.128014</td>\n",
              "      <td>1483.0</td>\n",
              "      <td>7472.0</td>\n",
              "      <td>0.198474</td>\n",
              "      <td>0.644989</td>\n",
              "      <td>-35.501083</td>\n",
              "      <td>0.150371</td>\n",
              "      <td>0.233137</td>\n",
              "      <td>-0.438522</td>\n",
              "      <td>0.036295</td>\n",
              "      <td>last_new_job</td>\n",
              "      <td>last_new_job &gt;4</td>\n",
              "    </tr>\n",
              "    <tr>\n",
              "      <th>Business Degree</th>\n",
              "      <td>21.0</td>\n",
              "      <td>149.0</td>\n",
              "      <td>0.140940</td>\n",
              "      <td>1483.0</td>\n",
              "      <td>7472.0</td>\n",
              "      <td>0.198474</td>\n",
              "      <td>0.710115</td>\n",
              "      <td>-28.988491</td>\n",
              "      <td>0.014160</td>\n",
              "      <td>0.019941</td>\n",
              "      <td>-0.342328</td>\n",
              "      <td>0.001979</td>\n",
              "      <td>major_discipline</td>\n",
              "      <td>major_discipline Business Degree</td>\n",
              "    </tr>\n",
              "    <tr>\n",
              "      <th>15</th>\n",
              "      <td>50.0</td>\n",
              "      <td>348.0</td>\n",
              "      <td>0.143678</td>\n",
              "      <td>1483.0</td>\n",
              "      <td>7472.0</td>\n",
              "      <td>0.198474</td>\n",
              "      <td>0.723913</td>\n",
              "      <td>-27.608684</td>\n",
              "      <td>0.033715</td>\n",
              "      <td>0.046574</td>\n",
              "      <td>-0.323084</td>\n",
              "      <td>0.004154</td>\n",
              "      <td>experience</td>\n",
              "      <td>experience 15</td>\n",
              "    </tr>\n",
              "    <tr>\n",
              "      <th>12</th>\n",
              "      <td>37.0</td>\n",
              "      <td>256.0</td>\n",
              "      <td>0.144531</td>\n",
              "      <td>1483.0</td>\n",
              "      <td>7472.0</td>\n",
              "      <td>0.198474</td>\n",
              "      <td>0.728211</td>\n",
              "      <td>-27.178860</td>\n",
              "      <td>0.024949</td>\n",
              "      <td>0.034261</td>\n",
              "      <td>-0.317164</td>\n",
              "      <td>0.002953</td>\n",
              "      <td>experience</td>\n",
              "      <td>experience 12</td>\n",
              "    </tr>\n",
              "    <tr>\n",
              "      <th>14</th>\n",
              "      <td>43.0</td>\n",
              "      <td>290.0</td>\n",
              "      <td>0.148276</td>\n",
              "      <td>1483.0</td>\n",
              "      <td>7472.0</td>\n",
              "      <td>0.198474</td>\n",
              "      <td>0.747078</td>\n",
              "      <td>-25.292162</td>\n",
              "      <td>0.028995</td>\n",
              "      <td>0.038812</td>\n",
              "      <td>-0.291585</td>\n",
              "      <td>0.002862</td>\n",
              "      <td>experience</td>\n",
              "      <td>experience 14</td>\n",
              "    </tr>\n",
              "    <tr>\n",
              "      <th>17</th>\n",
              "      <td>27.0</td>\n",
              "      <td>179.0</td>\n",
              "      <td>0.150838</td>\n",
              "      <td>1483.0</td>\n",
              "      <td>7472.0</td>\n",
              "      <td>0.198474</td>\n",
              "      <td>0.759987</td>\n",
              "      <td>-24.001251</td>\n",
              "      <td>0.018206</td>\n",
              "      <td>0.023956</td>\n",
              "      <td>-0.274453</td>\n",
              "      <td>0.001578</td>\n",
              "      <td>experience</td>\n",
              "      <td>experience 17</td>\n",
              "    </tr>\n",
              "    <tr>\n",
              "      <th>Phd</th>\n",
              "      <td>34.0</td>\n",
              "      <td>220.0</td>\n",
              "      <td>0.154545</td>\n",
              "      <td>1483.0</td>\n",
              "      <td>7472.0</td>\n",
              "      <td>0.198474</td>\n",
              "      <td>0.778667</td>\n",
              "      <td>-22.133268</td>\n",
              "      <td>0.022927</td>\n",
              "      <td>0.029443</td>\n",
              "      <td>-0.250171</td>\n",
              "      <td>0.001630</td>\n",
              "      <td>education_level</td>\n",
              "      <td>education_level Phd</td>\n",
              "    </tr>\n",
              "    <tr>\n",
              "      <th>No Major</th>\n",
              "      <td>15.0</td>\n",
              "      <td>97.0</td>\n",
              "      <td>0.154639</td>\n",
              "      <td>1483.0</td>\n",
              "      <td>7472.0</td>\n",
              "      <td>0.198474</td>\n",
              "      <td>0.779140</td>\n",
              "      <td>-22.086047</td>\n",
              "      <td>0.010115</td>\n",
              "      <td>0.012982</td>\n",
              "      <td>-0.249565</td>\n",
              "      <td>0.000716</td>\n",
              "      <td>major_discipline</td>\n",
              "      <td>major_discipline No Major</td>\n",
              "    </tr>\n",
              "    <tr>\n",
              "      <th>11</th>\n",
              "      <td>50.0</td>\n",
              "      <td>322.0</td>\n",
              "      <td>0.155280</td>\n",
              "      <td>1483.0</td>\n",
              "      <td>7472.0</td>\n",
              "      <td>0.198474</td>\n",
              "      <td>0.782366</td>\n",
              "      <td>-21.763422</td>\n",
              "      <td>0.033715</td>\n",
              "      <td>0.043094</td>\n",
              "      <td>-0.245433</td>\n",
              "      <td>0.002302</td>\n",
              "      <td>experience</td>\n",
              "      <td>experience 11</td>\n",
              "    </tr>\n",
              "    <tr>\n",
              "      <th>Funded Startup</th>\n",
              "      <td>108.0</td>\n",
              "      <td>676.0</td>\n",
              "      <td>0.159763</td>\n",
              "      <td>1483.0</td>\n",
              "      <td>7472.0</td>\n",
              "      <td>0.198474</td>\n",
              "      <td>0.804957</td>\n",
              "      <td>-19.504283</td>\n",
              "      <td>0.072825</td>\n",
              "      <td>0.090471</td>\n",
              "      <td>-0.216966</td>\n",
              "      <td>0.003829</td>\n",
              "      <td>company_type</td>\n",
              "      <td>company_type Funded Startup</td>\n",
              "    </tr>\n",
              "    <tr>\n",
              "      <th>Masters</th>\n",
              "      <td>357.0</td>\n",
              "      <td>2092.0</td>\n",
              "      <td>0.170650</td>\n",
              "      <td>1483.0</td>\n",
              "      <td>7472.0</td>\n",
              "      <td>0.198474</td>\n",
              "      <td>0.859810</td>\n",
              "      <td>-14.019048</td>\n",
              "      <td>0.240728</td>\n",
              "      <td>0.279979</td>\n",
              "      <td>-0.151044</td>\n",
              "      <td>0.005929</td>\n",
              "      <td>education_level</td>\n",
              "      <td>education_level Masters</td>\n",
              "    </tr>\n",
              "    <tr>\n",
              "      <th>1000-4999</th>\n",
              "      <td>136.0</td>\n",
              "      <td>794.0</td>\n",
              "      <td>0.171285</td>\n",
              "      <td>1483.0</td>\n",
              "      <td>7472.0</td>\n",
              "      <td>0.198474</td>\n",
              "      <td>0.863007</td>\n",
              "      <td>-13.699340</td>\n",
              "      <td>0.091706</td>\n",
              "      <td>0.106263</td>\n",
              "      <td>-0.147333</td>\n",
              "      <td>0.002145</td>\n",
              "      <td>company_size</td>\n",
              "      <td>company_size 1000-4999</td>\n",
              "    </tr>\n",
              "    <tr>\n",
              "      <th>&lt;10</th>\n",
              "      <td>126.0</td>\n",
              "      <td>714.0</td>\n",
              "      <td>0.176471</td>\n",
              "      <td>1483.0</td>\n",
              "      <td>7472.0</td>\n",
              "      <td>0.198474</td>\n",
              "      <td>0.889136</td>\n",
              "      <td>-11.086431</td>\n",
              "      <td>0.084963</td>\n",
              "      <td>0.095557</td>\n",
              "      <td>-0.117505</td>\n",
              "      <td>0.001245</td>\n",
              "      <td>company_size</td>\n",
              "      <td>company_size &lt;10</td>\n",
              "    </tr>\n",
              "    <tr>\n",
              "      <th>5000-9999</th>\n",
              "      <td>59.0</td>\n",
              "      <td>334.0</td>\n",
              "      <td>0.176647</td>\n",
              "      <td>1483.0</td>\n",
              "      <td>7472.0</td>\n",
              "      <td>0.198474</td>\n",
              "      <td>0.890023</td>\n",
              "      <td>-10.997694</td>\n",
              "      <td>0.039784</td>\n",
              "      <td>0.044700</td>\n",
              "      <td>-0.116508</td>\n",
              "      <td>0.000573</td>\n",
              "      <td>company_size</td>\n",
              "      <td>company_size 5000-9999</td>\n",
              "    </tr>\n",
              "    <tr>\n",
              "      <th>13</th>\n",
              "      <td>36.0</td>\n",
              "      <td>199.0</td>\n",
              "      <td>0.180905</td>\n",
              "      <td>1483.0</td>\n",
              "      <td>7472.0</td>\n",
              "      <td>0.198474</td>\n",
              "      <td>0.911476</td>\n",
              "      <td>-8.852421</td>\n",
              "      <td>0.024275</td>\n",
              "      <td>0.026633</td>\n",
              "      <td>-0.092690</td>\n",
              "      <td>0.000219</td>\n",
              "      <td>experience</td>\n",
              "      <td>experience 13</td>\n",
              "    </tr>\n",
              "    <tr>\n",
              "      <th>Other</th>\n",
              "      <td>12.0</td>\n",
              "      <td>66.0</td>\n",
              "      <td>0.181818</td>\n",
              "      <td>1483.0</td>\n",
              "      <td>7472.0</td>\n",
              "      <td>0.198474</td>\n",
              "      <td>0.916079</td>\n",
              "      <td>-8.392080</td>\n",
              "      <td>0.008092</td>\n",
              "      <td>0.008833</td>\n",
              "      <td>-0.087652</td>\n",
              "      <td>0.000065</td>\n",
              "      <td>gender</td>\n",
              "      <td>gender Other</td>\n",
              "    </tr>\n",
              "    <tr>\n",
              "      <th>no_enrollment</th>\n",
              "      <td>1169.0</td>\n",
              "      <td>6425.0</td>\n",
              "      <td>0.181946</td>\n",
              "      <td>1483.0</td>\n",
              "      <td>7472.0</td>\n",
              "      <td>0.198474</td>\n",
              "      <td>0.916721</td>\n",
              "      <td>-8.327919</td>\n",
              "      <td>0.788267</td>\n",
              "      <td>0.859877</td>\n",
              "      <td>-0.086952</td>\n",
              "      <td>0.006227</td>\n",
              "      <td>enrolled_university</td>\n",
              "      <td>enrolled_university no_enrollment</td>\n",
              "    </tr>\n",
              "    <tr>\n",
              "      <th>NGO</th>\n",
              "      <td>55.0</td>\n",
              "      <td>301.0</td>\n",
              "      <td>0.182724</td>\n",
              "      <td>1483.0</td>\n",
              "      <td>7472.0</td>\n",
              "      <td>0.198474</td>\n",
              "      <td>0.920644</td>\n",
              "      <td>-7.935562</td>\n",
              "      <td>0.037087</td>\n",
              "      <td>0.040284</td>\n",
              "      <td>-0.082681</td>\n",
              "      <td>0.000264</td>\n",
              "      <td>company_type</td>\n",
              "      <td>company_type NGO</td>\n",
              "    </tr>\n",
              "    <tr>\n",
              "      <th>Part time course</th>\n",
              "      <td>82.0</td>\n",
              "      <td>447.0</td>\n",
              "      <td>0.183445</td>\n",
              "      <td>1483.0</td>\n",
              "      <td>7472.0</td>\n",
              "      <td>0.198474</td>\n",
              "      <td>0.924277</td>\n",
              "      <td>-7.572322</td>\n",
              "      <td>0.055293</td>\n",
              "      <td>0.059823</td>\n",
              "      <td>-0.078744</td>\n",
              "      <td>0.000357</td>\n",
              "      <td>enrolled_university</td>\n",
              "      <td>enrolled_university Part time course</td>\n",
              "    </tr>\n",
              "    <tr>\n",
              "      <th>100-500</th>\n",
              "      <td>282.0</td>\n",
              "      <td>1532.0</td>\n",
              "      <td>0.184073</td>\n",
              "      <td>1483.0</td>\n",
              "      <td>7472.0</td>\n",
              "      <td>0.198474</td>\n",
              "      <td>0.927440</td>\n",
              "      <td>-7.255950</td>\n",
              "      <td>0.190155</td>\n",
              "      <td>0.205032</td>\n",
              "      <td>-0.075327</td>\n",
              "      <td>0.001121</td>\n",
              "      <td>company_size</td>\n",
              "      <td>company_size 100-500</td>\n",
              "    </tr>\n",
              "    <tr>\n",
              "      <th>10</th>\n",
              "      <td>86.0</td>\n",
              "      <td>465.0</td>\n",
              "      <td>0.184946</td>\n",
              "      <td>1483.0</td>\n",
              "      <td>7472.0</td>\n",
              "      <td>0.198474</td>\n",
              "      <td>0.931840</td>\n",
              "      <td>-6.816030</td>\n",
              "      <td>0.057991</td>\n",
              "      <td>0.062232</td>\n",
              "      <td>-0.070594</td>\n",
              "      <td>0.000299</td>\n",
              "      <td>experience</td>\n",
              "      <td>experience 10</td>\n",
              "    </tr>\n",
              "    <tr>\n",
              "      <th>500-999</th>\n",
              "      <td>93.0</td>\n",
              "      <td>499.0</td>\n",
              "      <td>0.186373</td>\n",
              "      <td>1483.0</td>\n",
              "      <td>7472.0</td>\n",
              "      <td>0.198474</td>\n",
              "      <td>0.939027</td>\n",
              "      <td>-6.097292</td>\n",
              "      <td>0.062711</td>\n",
              "      <td>0.066783</td>\n",
              "      <td>-0.062911</td>\n",
              "      <td>0.000256</td>\n",
              "      <td>company_size</td>\n",
              "      <td>company_size 500-999</td>\n",
              "    </tr>\n",
              "    <tr>\n",
              "      <th>Has relevent experience</th>\n",
              "      <td>1260.0</td>\n",
              "      <td>6591.0</td>\n",
              "      <td>0.191170</td>\n",
              "      <td>1483.0</td>\n",
              "      <td>7472.0</td>\n",
              "      <td>0.198474</td>\n",
              "      <td>0.963197</td>\n",
              "      <td>-3.680339</td>\n",
              "      <td>0.849629</td>\n",
              "      <td>0.882093</td>\n",
              "      <td>-0.037498</td>\n",
              "      <td>0.001217</td>\n",
              "      <td>relevent_experience</td>\n",
              "      <td>relevent_experience Has relevent experience</td>\n",
              "    </tr>\n",
              "    <tr>\n",
              "      <th>Female</th>\n",
              "      <td>131.0</td>\n",
              "      <td>673.0</td>\n",
              "      <td>0.194651</td>\n",
              "      <td>1483.0</td>\n",
              "      <td>7472.0</td>\n",
              "      <td>0.198474</td>\n",
              "      <td>0.980736</td>\n",
              "      <td>-1.926439</td>\n",
              "      <td>0.088334</td>\n",
              "      <td>0.090070</td>\n",
              "      <td>-0.019452</td>\n",
              "      <td>0.000034</td>\n",
              "      <td>gender</td>\n",
              "      <td>gender Female</td>\n",
              "    </tr>\n",
              "    <tr>\n",
              "      <th>50-99</th>\n",
              "      <td>326.0</td>\n",
              "      <td>1660.0</td>\n",
              "      <td>0.196386</td>\n",
              "      <td>1483.0</td>\n",
              "      <td>7472.0</td>\n",
              "      <td>0.198474</td>\n",
              "      <td>0.989476</td>\n",
              "      <td>-1.052409</td>\n",
              "      <td>0.219825</td>\n",
              "      <td>0.222163</td>\n",
              "      <td>-0.010580</td>\n",
              "      <td>0.000025</td>\n",
              "      <td>company_size</td>\n",
              "      <td>company_size 50-99</td>\n",
              "    </tr>\n",
              "    <tr>\n",
              "      <th>Male</th>\n",
              "      <td>1340.0</td>\n",
              "      <td>6733.0</td>\n",
              "      <td>0.199020</td>\n",
              "      <td>1483.0</td>\n",
              "      <td>7472.0</td>\n",
              "      <td>0.198474</td>\n",
              "      <td>1.002748</td>\n",
              "      <td>0.274821</td>\n",
              "      <td>0.903574</td>\n",
              "      <td>0.901097</td>\n",
              "      <td>0.002744</td>\n",
              "      <td>0.000007</td>\n",
              "      <td>gender</td>\n",
              "      <td>gender Male</td>\n",
              "    </tr>\n",
              "    <tr>\n",
              "      <th>Public Sector</th>\n",
              "      <td>94.0</td>\n",
              "      <td>470.0</td>\n",
              "      <td>0.200000</td>\n",
              "      <td>1483.0</td>\n",
              "      <td>7472.0</td>\n",
              "      <td>0.198474</td>\n",
              "      <td>1.007687</td>\n",
              "      <td>0.768712</td>\n",
              "      <td>0.063385</td>\n",
              "      <td>0.062901</td>\n",
              "      <td>0.007658</td>\n",
              "      <td>0.000004</td>\n",
              "      <td>company_type</td>\n",
              "      <td>company_type Public Sector</td>\n",
              "    </tr>\n",
              "    <tr>\n",
              "      <th>Pvt Ltd</th>\n",
              "      <td>1133.0</td>\n",
              "      <td>5661.0</td>\n",
              "      <td>0.200141</td>\n",
              "      <td>1483.0</td>\n",
              "      <td>7472.0</td>\n",
              "      <td>0.198474</td>\n",
              "      <td>1.008399</td>\n",
              "      <td>0.839914</td>\n",
              "      <td>0.763992</td>\n",
              "      <td>0.757628</td>\n",
              "      <td>0.008364</td>\n",
              "      <td>0.000053</td>\n",
              "      <td>company_type</td>\n",
              "      <td>company_type Pvt Ltd</td>\n",
              "    </tr>\n",
              "    <tr>\n",
              "      <th>3</th>\n",
              "      <td>102.0</td>\n",
              "      <td>508.0</td>\n",
              "      <td>0.200787</td>\n",
              "      <td>1483.0</td>\n",
              "      <td>7472.0</td>\n",
              "      <td>0.198474</td>\n",
              "      <td>1.011654</td>\n",
              "      <td>1.165439</td>\n",
              "      <td>0.068780</td>\n",
              "      <td>0.067987</td>\n",
              "      <td>0.011587</td>\n",
              "      <td>0.000009</td>\n",
              "      <td>last_new_job</td>\n",
              "      <td>last_new_job 3</td>\n",
              "    </tr>\n",
              "    <tr>\n",
              "      <th>4</th>\n",
              "      <td>101.0</td>\n",
              "      <td>498.0</td>\n",
              "      <td>0.202811</td>\n",
              "      <td>1483.0</td>\n",
              "      <td>7472.0</td>\n",
              "      <td>0.198474</td>\n",
              "      <td>1.021851</td>\n",
              "      <td>2.185140</td>\n",
              "      <td>0.068105</td>\n",
              "      <td>0.066649</td>\n",
              "      <td>0.021616</td>\n",
              "      <td>0.000031</td>\n",
              "      <td>last_new_job</td>\n",
              "      <td>last_new_job 4</td>\n",
              "    </tr>\n",
              "    <tr>\n",
              "      <th>STEM</th>\n",
              "      <td>1379.0</td>\n",
              "      <td>6610.0</td>\n",
              "      <td>0.208623</td>\n",
              "      <td>1483.0</td>\n",
              "      <td>7472.0</td>\n",
              "      <td>0.198474</td>\n",
              "      <td>1.051135</td>\n",
              "      <td>5.113505</td>\n",
              "      <td>0.929872</td>\n",
              "      <td>0.884636</td>\n",
              "      <td>0.049871</td>\n",
              "      <td>0.002256</td>\n",
              "      <td>major_discipline</td>\n",
              "      <td>major_discipline STEM</td>\n",
              "    </tr>\n",
              "    <tr>\n",
              "      <th>Graduate</th>\n",
              "      <td>1092.0</td>\n",
              "      <td>5160.0</td>\n",
              "      <td>0.211628</td>\n",
              "      <td>1483.0</td>\n",
              "      <td>7472.0</td>\n",
              "      <td>0.198474</td>\n",
              "      <td>1.066274</td>\n",
              "      <td>6.627358</td>\n",
              "      <td>0.736345</td>\n",
              "      <td>0.690578</td>\n",
              "      <td>0.064170</td>\n",
              "      <td>0.002937</td>\n",
              "      <td>education_level</td>\n",
              "      <td>education_level Graduate</td>\n",
              "    </tr>\n",
              "    <tr>\n",
              "      <th>1</th>\n",
              "      <td>682.0</td>\n",
              "      <td>3156.0</td>\n",
              "      <td>0.216096</td>\n",
              "      <td>1483.0</td>\n",
              "      <td>7472.0</td>\n",
              "      <td>0.198474</td>\n",
              "      <td>1.088787</td>\n",
              "      <td>8.878741</td>\n",
              "      <td>0.459879</td>\n",
              "      <td>0.422377</td>\n",
              "      <td>0.085065</td>\n",
              "      <td>0.003190</td>\n",
              "      <td>last_new_job</td>\n",
              "      <td>last_new_job 1</td>\n",
              "    </tr>\n",
              "    <tr>\n",
              "      <th>2</th>\n",
              "      <td>279.0</td>\n",
              "      <td>1291.0</td>\n",
              "      <td>0.216112</td>\n",
              "      <td>1483.0</td>\n",
              "      <td>7472.0</td>\n",
              "      <td>0.198474</td>\n",
              "      <td>1.088864</td>\n",
              "      <td>8.886408</td>\n",
              "      <td>0.188132</td>\n",
              "      <td>0.172778</td>\n",
              "      <td>0.085135</td>\n",
              "      <td>0.001307</td>\n",
              "      <td>last_new_job</td>\n",
              "      <td>last_new_job 2</td>\n",
              "    </tr>\n",
              "    <tr>\n",
              "      <th>9</th>\n",
              "      <td>95.0</td>\n",
              "      <td>438.0</td>\n",
              "      <td>0.216895</td>\n",
              "      <td>1483.0</td>\n",
              "      <td>7472.0</td>\n",
              "      <td>0.198474</td>\n",
              "      <td>1.092811</td>\n",
              "      <td>9.281138</td>\n",
              "      <td>0.064059</td>\n",
              "      <td>0.058619</td>\n",
              "      <td>0.088754</td>\n",
              "      <td>0.000483</td>\n",
              "      <td>experience</td>\n",
              "      <td>experience 9</td>\n",
              "    </tr>\n",
              "    <tr>\n",
              "      <th>10000+</th>\n",
              "      <td>265.0</td>\n",
              "      <td>1184.0</td>\n",
              "      <td>0.223818</td>\n",
              "      <td>1483.0</td>\n",
              "      <td>7472.0</td>\n",
              "      <td>0.198474</td>\n",
              "      <td>1.127690</td>\n",
              "      <td>12.769040</td>\n",
              "      <td>0.178692</td>\n",
              "      <td>0.158458</td>\n",
              "      <td>0.120172</td>\n",
              "      <td>0.002432</td>\n",
              "      <td>company_size</td>\n",
              "      <td>company_size 10000+</td>\n",
              "    </tr>\n",
              "    <tr>\n",
              "      <th>8</th>\n",
              "      <td>77.0</td>\n",
              "      <td>321.0</td>\n",
              "      <td>0.239875</td>\n",
              "      <td>1483.0</td>\n",
              "      <td>7472.0</td>\n",
              "      <td>0.198474</td>\n",
              "      <td>1.208597</td>\n",
              "      <td>20.859670</td>\n",
              "      <td>0.051922</td>\n",
              "      <td>0.042960</td>\n",
              "      <td>0.189460</td>\n",
              "      <td>0.001698</td>\n",
              "      <td>experience</td>\n",
              "      <td>experience 8</td>\n",
              "    </tr>\n",
              "    <tr>\n",
              "      <th>No relevent experience</th>\n",
              "      <td>223.0</td>\n",
              "      <td>881.0</td>\n",
              "      <td>0.253121</td>\n",
              "      <td>1483.0</td>\n",
              "      <td>7472.0</td>\n",
              "      <td>0.198474</td>\n",
              "      <td>1.275336</td>\n",
              "      <td>27.533614</td>\n",
              "      <td>0.150371</td>\n",
              "      <td>0.117907</td>\n",
              "      <td>0.243210</td>\n",
              "      <td>0.007896</td>\n",
              "      <td>relevent_experience</td>\n",
              "      <td>relevent_experience No relevent experience</td>\n",
              "    </tr>\n",
              "    <tr>\n",
              "      <th>Early Stage Startup</th>\n",
              "      <td>78.0</td>\n",
              "      <td>307.0</td>\n",
              "      <td>0.254072</td>\n",
              "      <td>1483.0</td>\n",
              "      <td>7472.0</td>\n",
              "      <td>0.198474</td>\n",
              "      <td>1.280124</td>\n",
              "      <td>28.012370</td>\n",
              "      <td>0.052596</td>\n",
              "      <td>0.041087</td>\n",
              "      <td>0.246957</td>\n",
              "      <td>0.002842</td>\n",
              "      <td>company_type</td>\n",
              "      <td>company_type Early Stage Startup</td>\n",
              "    </tr>\n",
              "    <tr>\n",
              "      <th>10/49</th>\n",
              "      <td>196.0</td>\n",
              "      <td>755.0</td>\n",
              "      <td>0.259603</td>\n",
              "      <td>1483.0</td>\n",
              "      <td>7472.0</td>\n",
              "      <td>0.198474</td>\n",
              "      <td>1.307991</td>\n",
              "      <td>30.799123</td>\n",
              "      <td>0.132165</td>\n",
              "      <td>0.101044</td>\n",
              "      <td>0.268493</td>\n",
              "      <td>0.008356</td>\n",
              "      <td>company_size</td>\n",
              "      <td>company_size 10/49</td>\n",
              "    </tr>\n",
              "    <tr>\n",
              "      <th>Other</th>\n",
              "      <td>15.0</td>\n",
              "      <td>57.0</td>\n",
              "      <td>0.263158</td>\n",
              "      <td>1483.0</td>\n",
              "      <td>7472.0</td>\n",
              "      <td>0.198474</td>\n",
              "      <td>1.325904</td>\n",
              "      <td>32.590411</td>\n",
              "      <td>0.010115</td>\n",
              "      <td>0.007628</td>\n",
              "      <td>0.282095</td>\n",
              "      <td>0.000701</td>\n",
              "      <td>company_type</td>\n",
              "      <td>company_type Other</td>\n",
              "    </tr>\n",
              "    <tr>\n",
              "      <th>6</th>\n",
              "      <td>117.0</td>\n",
              "      <td>418.0</td>\n",
              "      <td>0.279904</td>\n",
              "      <td>1483.0</td>\n",
              "      <td>7472.0</td>\n",
              "      <td>0.198474</td>\n",
              "      <td>1.410280</td>\n",
              "      <td>41.027982</td>\n",
              "      <td>0.078894</td>\n",
              "      <td>0.055942</td>\n",
              "      <td>0.343788</td>\n",
              "      <td>0.007891</td>\n",
              "      <td>experience</td>\n",
              "      <td>experience 6</td>\n",
              "    </tr>\n",
              "    <tr>\n",
              "      <th>7</th>\n",
              "      <td>110.0</td>\n",
              "      <td>375.0</td>\n",
              "      <td>0.293333</td>\n",
              "      <td>1483.0</td>\n",
              "      <td>7472.0</td>\n",
              "      <td>0.198474</td>\n",
              "      <td>1.477941</td>\n",
              "      <td>47.794111</td>\n",
              "      <td>0.074174</td>\n",
              "      <td>0.050187</td>\n",
              "      <td>0.390650</td>\n",
              "      <td>0.009370</td>\n",
              "      <td>experience</td>\n",
              "      <td>experience 7</td>\n",
              "    </tr>\n",
              "    <tr>\n",
              "      <th>4</th>\n",
              "      <td>111.0</td>\n",
              "      <td>369.0</td>\n",
              "      <td>0.300813</td>\n",
              "      <td>1483.0</td>\n",
              "      <td>7472.0</td>\n",
              "      <td>0.198474</td>\n",
              "      <td>1.515627</td>\n",
              "      <td>51.562697</td>\n",
              "      <td>0.074848</td>\n",
              "      <td>0.049384</td>\n",
              "      <td>0.415829</td>\n",
              "      <td>0.010589</td>\n",
              "      <td>experience</td>\n",
              "      <td>experience 4</td>\n",
              "    </tr>\n",
              "    <tr>\n",
              "      <th>2</th>\n",
              "      <td>73.0</td>\n",
              "      <td>224.0</td>\n",
              "      <td>0.325893</td>\n",
              "      <td>1483.0</td>\n",
              "      <td>7472.0</td>\n",
              "      <td>0.198474</td>\n",
              "      <td>1.641990</td>\n",
              "      <td>64.199017</td>\n",
              "      <td>0.049225</td>\n",
              "      <td>0.029979</td>\n",
              "      <td>0.495909</td>\n",
              "      <td>0.009544</td>\n",
              "      <td>experience</td>\n",
              "      <td>experience 2</td>\n",
              "    </tr>\n",
              "    <tr>\n",
              "      <th>5</th>\n",
              "      <td>142.0</td>\n",
              "      <td>433.0</td>\n",
              "      <td>0.327945</td>\n",
              "      <td>1483.0</td>\n",
              "      <td>7472.0</td>\n",
              "      <td>0.198474</td>\n",
              "      <td>1.652328</td>\n",
              "      <td>65.232761</td>\n",
              "      <td>0.095752</td>\n",
              "      <td>0.057950</td>\n",
              "      <td>0.502185</td>\n",
              "      <td>0.018984</td>\n",
              "      <td>experience</td>\n",
              "      <td>experience 5</td>\n",
              "    </tr>\n",
              "    <tr>\n",
              "      <th>never</th>\n",
              "      <td>96.0</td>\n",
              "      <td>277.0</td>\n",
              "      <td>0.346570</td>\n",
              "      <td>1483.0</td>\n",
              "      <td>7472.0</td>\n",
              "      <td>0.198474</td>\n",
              "      <td>1.746173</td>\n",
              "      <td>74.617263</td>\n",
              "      <td>0.064734</td>\n",
              "      <td>0.037072</td>\n",
              "      <td>0.557426</td>\n",
              "      <td>0.015419</td>\n",
              "      <td>last_new_job</td>\n",
              "      <td>last_new_job never</td>\n",
              "    </tr>\n",
              "    <tr>\n",
              "      <th>Full time course</th>\n",
              "      <td>232.0</td>\n",
              "      <td>600.0</td>\n",
              "      <td>0.386667</td>\n",
              "      <td>1483.0</td>\n",
              "      <td>7472.0</td>\n",
              "      <td>0.198474</td>\n",
              "      <td>1.948195</td>\n",
              "      <td>94.819510</td>\n",
              "      <td>0.156440</td>\n",
              "      <td>0.080300</td>\n",
              "      <td>0.666903</td>\n",
              "      <td>0.050778</td>\n",
              "      <td>enrolled_university</td>\n",
              "      <td>enrolled_university Full time course</td>\n",
              "    </tr>\n",
              "    <tr>\n",
              "      <th>3</th>\n",
              "      <td>125.0</td>\n",
              "      <td>303.0</td>\n",
              "      <td>0.412541</td>\n",
              "      <td>1483.0</td>\n",
              "      <td>7472.0</td>\n",
              "      <td>0.198474</td>\n",
              "      <td>2.078563</td>\n",
              "      <td>107.856254</td>\n",
              "      <td>0.084289</td>\n",
              "      <td>0.040551</td>\n",
              "      <td>0.731677</td>\n",
              "      <td>0.032001</td>\n",
              "      <td>experience</td>\n",
              "      <td>experience 3</td>\n",
              "    </tr>\n",
              "    <tr>\n",
              "      <th>1</th>\n",
              "      <td>52.0</td>\n",
              "      <td>69.0</td>\n",
              "      <td>0.753623</td>\n",
              "      <td>1483.0</td>\n",
              "      <td>7472.0</td>\n",
              "      <td>0.198474</td>\n",
              "      <td>3.797082</td>\n",
              "      <td>279.708190</td>\n",
              "      <td>0.035064</td>\n",
              "      <td>0.009234</td>\n",
              "      <td>1.334233</td>\n",
              "      <td>0.034463</td>\n",
              "      <td>experience</td>\n",
              "      <td>experience 1</td>\n",
              "    </tr>\n",
              "    <tr>\n",
              "      <th>&lt;1</th>\n",
              "      <td>45.0</td>\n",
              "      <td>52.0</td>\n",
              "      <td>0.865385</td>\n",
              "      <td>1483.0</td>\n",
              "      <td>7472.0</td>\n",
              "      <td>0.198474</td>\n",
              "      <td>4.360185</td>\n",
              "      <td>336.018466</td>\n",
              "      <td>0.030344</td>\n",
              "      <td>0.006959</td>\n",
              "      <td>1.472514</td>\n",
              "      <td>0.034434</td>\n",
              "      <td>experience</td>\n",
              "      <td>experience &lt;1</td>\n",
              "    </tr>\n",
              "  </tbody>\n",
              "</table>\n",
              "</div>"
            ],
            "text/plain": [
              "                         looking  ...                                    Attribute\n",
              "Arts                         9.0  ...                        major_discipline Arts\n",
              "18                          12.0  ...                                experience 18\n",
              ">20                        144.0  ...                               experience >20\n",
              "19                          14.0  ...                                experience 19\n",
              "20                           7.0  ...                                experience 20\n",
              "16                          30.0  ...                                experience 16\n",
              "Humanities                  40.0  ...                  major_discipline Humanities\n",
              "Other                       19.0  ...                       major_discipline Other\n",
              ">4                         223.0  ...                              last_new_job >4\n",
              "Business Degree             21.0  ...             major_discipline Business Degree\n",
              "15                          50.0  ...                                experience 15\n",
              "12                          37.0  ...                                experience 12\n",
              "14                          43.0  ...                                experience 14\n",
              "17                          27.0  ...                                experience 17\n",
              "Phd                         34.0  ...                          education_level Phd\n",
              "No Major                    15.0  ...                    major_discipline No Major\n",
              "11                          50.0  ...                                experience 11\n",
              "Funded Startup             108.0  ...                  company_type Funded Startup\n",
              "Masters                    357.0  ...                      education_level Masters\n",
              "1000-4999                  136.0  ...                       company_size 1000-4999\n",
              "<10                        126.0  ...                             company_size <10\n",
              "5000-9999                   59.0  ...                       company_size 5000-9999\n",
              "13                          36.0  ...                                experience 13\n",
              "Other                       12.0  ...                                 gender Other\n",
              "no_enrollment             1169.0  ...            enrolled_university no_enrollment\n",
              "NGO                         55.0  ...                             company_type NGO\n",
              "Part time course            82.0  ...         enrolled_university Part time course\n",
              "100-500                    282.0  ...                         company_size 100-500\n",
              "10                          86.0  ...                                experience 10\n",
              "500-999                     93.0  ...                         company_size 500-999\n",
              "Has relevent experience   1260.0  ...  relevent_experience Has relevent experience\n",
              "Female                     131.0  ...                                gender Female\n",
              "50-99                      326.0  ...                           company_size 50-99\n",
              "Male                      1340.0  ...                                  gender Male\n",
              "Public Sector               94.0  ...                   company_type Public Sector\n",
              "Pvt Ltd                   1133.0  ...                         company_type Pvt Ltd\n",
              "3                          102.0  ...                               last_new_job 3\n",
              "4                          101.0  ...                               last_new_job 4\n",
              "STEM                      1379.0  ...                        major_discipline STEM\n",
              "Graduate                  1092.0  ...                     education_level Graduate\n",
              "1                          682.0  ...                               last_new_job 1\n",
              "2                          279.0  ...                               last_new_job 2\n",
              "9                           95.0  ...                                 experience 9\n",
              "10000+                     265.0  ...                          company_size 10000+\n",
              "8                           77.0  ...                                 experience 8\n",
              "No relevent experience     223.0  ...   relevent_experience No relevent experience\n",
              "Early Stage Startup         78.0  ...             company_type Early Stage Startup\n",
              "10/49                      196.0  ...                           company_size 10/49\n",
              "Other                       15.0  ...                           company_type Other\n",
              "6                          117.0  ...                                 experience 6\n",
              "7                          110.0  ...                                 experience 7\n",
              "4                          111.0  ...                                 experience 4\n",
              "2                           73.0  ...                                 experience 2\n",
              "5                          142.0  ...                                 experience 5\n",
              "never                       96.0  ...                           last_new_job never\n",
              "Full time course           232.0  ...         enrolled_university Full time course\n",
              "3                          125.0  ...                                 experience 3\n",
              "1                           52.0  ...                                 experience 1\n",
              "<1                          45.0  ...                                experience <1\n",
              "\n",
              "[59 rows x 14 columns]"
            ]
          },
          "metadata": {
            "tags": []
          },
          "execution_count": 42
        }
      ]
    },
    {
      "cell_type": "code",
      "metadata": {
        "id": "vngoq6Ym7KLl"
      },
      "source": [
        "X = df1[['city_development_index','gender','relevent_experience','enrolled_university','education_level',\n",
        "             'major_discipline', 'experience', 'company_size', 'company_type','training_hours']]\n",
        "y = df1['looking']"
      ],
      "execution_count": null,
      "outputs": []
    },
    {
      "cell_type": "code",
      "metadata": {
        "id": "UqiS-l_A90Qx"
      },
      "source": [
        ""
      ],
      "execution_count": null,
      "outputs": []
    },
    {
      "cell_type": "code",
      "metadata": {
        "id": "hFlsDAA37VAk"
      },
      "source": [
        "X_train, X_test, y_train, y_test = train_test_split(X, y,random_state=10)"
      ],
      "execution_count": null,
      "outputs": []
    },
    {
      "cell_type": "code",
      "metadata": {
        "id": "WwPZn6Hj7f3Q"
      },
      "source": [
        "categorical_preprocessing = Pipeline(steps=[('One Hot Encoding',OneHotEncoder(handle_unknown='ignore'))])\n",
        "numeric_preprocessing = Pipeline(steps=[('Scaling',StandardScaler())])"
      ],
      "execution_count": null,
      "outputs": []
    },
    {
      "cell_type": "code",
      "metadata": {
        "id": "JIUq5Xhl7z7g"
      },
      "source": [
        "preprocessing = ColumnTransformer(transformers=[('num',numeric_preprocessing,['city_development_index','training_hours']),\n",
        "                                         ('cat',categorical_preprocessing,['gender','relevent_experience','enrolled_university','education_level','major_discipline', 'experience', 'company_size', 'company_type'])])"
      ],
      "execution_count": null,
      "outputs": []
    },
    {
      "cell_type": "code",
      "metadata": {
        "id": "nY2Wh7w173Mu"
      },
      "source": [
        "clf = Pipeline(steps=[('preprocessing',preprocessing), ('classifier',LogisticRegression())])"
      ],
      "execution_count": null,
      "outputs": []
    },
    {
      "cell_type": "code",
      "metadata": {
        "colab": {
          "base_uri": "https://localhost:8080/"
        },
        "id": "zC4ZErRf788K",
        "outputId": "feb08e16-2fcf-4955-b627-8be5cc5fe992"
      },
      "source": [
        "clf.fit(X_train,y_train)"
      ],
      "execution_count": null,
      "outputs": [
        {
          "output_type": "execute_result",
          "data": {
            "text/plain": [
              "Pipeline(memory=None,\n",
              "         steps=[('preprocessing',\n",
              "                 ColumnTransformer(n_jobs=None, remainder='drop',\n",
              "                                   sparse_threshold=0.3,\n",
              "                                   transformer_weights=None,\n",
              "                                   transformers=[('num',\n",
              "                                                  Pipeline(memory=None,\n",
              "                                                           steps=[('Scaling',\n",
              "                                                                   StandardScaler(copy=True,\n",
              "                                                                                  with_mean=True,\n",
              "                                                                                  with_std=True))],\n",
              "                                                           verbose=False),\n",
              "                                                  ['city_development_index',\n",
              "                                                   'training_hours']),\n",
              "                                                 ('cat',\n",
              "                                                  Pipeline(memory=None,\n",
              "                                                           steps=[...\n",
              "                                                   'education_level',\n",
              "                                                   'major_discipline',\n",
              "                                                   'experience', 'company_size',\n",
              "                                                   'company_type'])],\n",
              "                                   verbose=False)),\n",
              "                ('classifier',\n",
              "                 LogisticRegression(C=1.0, class_weight=None, dual=False,\n",
              "                                    fit_intercept=True, intercept_scaling=1,\n",
              "                                    l1_ratio=None, max_iter=100,\n",
              "                                    multi_class='auto', n_jobs=None,\n",
              "                                    penalty='l2', random_state=None,\n",
              "                                    solver='lbfgs', tol=0.0001, verbose=0,\n",
              "                                    warm_start=False))],\n",
              "         verbose=False)"
            ]
          },
          "metadata": {
            "tags": []
          },
          "execution_count": 57
        }
      ]
    },
    {
      "cell_type": "code",
      "metadata": {
        "colab": {
          "base_uri": "https://localhost:8080/"
        },
        "id": "sqI_DZoA8Ai0",
        "outputId": "07f6a98f-b3d8-4420-c8c1-b24d3ce89738"
      },
      "source": [
        "clf.score(X_train,y_train) "
      ],
      "execution_count": null,
      "outputs": [
        {
          "output_type": "execute_result",
          "data": {
            "text/plain": [
              "0.8548243001786778"
            ]
          },
          "metadata": {
            "tags": []
          },
          "execution_count": 58
        }
      ]
    },
    {
      "cell_type": "code",
      "metadata": {
        "colab": {
          "base_uri": "https://localhost:8080/"
        },
        "id": "QHg1Q0J_8FsW",
        "outputId": "5250fc17-fa29-4ec1-ab35-be56284ee77d"
      },
      "source": [
        "clf.score(X_test,y_test)"
      ],
      "execution_count": null,
      "outputs": [
        {
          "output_type": "execute_result",
          "data": {
            "text/plain": [
              "0.8387673068334077"
            ]
          },
          "metadata": {
            "tags": []
          },
          "execution_count": 59
        }
      ]
    },
    {
      "cell_type": "code",
      "metadata": {
        "colab": {
          "base_uri": "https://localhost:8080/"
        },
        "id": "cgFCTLU68P6u",
        "outputId": "bec2e3ea-b7f6-45b6-9dda-ae6735c6d662"
      },
      "source": [
        "clf[0].transformers[0][2]"
      ],
      "execution_count": null,
      "outputs": [
        {
          "output_type": "execute_result",
          "data": {
            "text/plain": [
              "['city_development_index', 'training_hours']"
            ]
          },
          "metadata": {
            "tags": []
          },
          "execution_count": 60
        }
      ]
    },
    {
      "cell_type": "code",
      "metadata": {
        "colab": {
          "base_uri": "https://localhost:8080/"
        },
        "id": "yCXViWr-8Uip",
        "outputId": "cdb7916a-6086-4a86-ffd8-b7e4fc4e0911"
      },
      "source": [
        "clf[0].transformers[1][2]"
      ],
      "execution_count": null,
      "outputs": [
        {
          "output_type": "execute_result",
          "data": {
            "text/plain": [
              "['gender',\n",
              " 'relevent_experience',\n",
              " 'enrolled_university',\n",
              " 'education_level',\n",
              " 'major_discipline',\n",
              " 'experience',\n",
              " 'company_size',\n",
              " 'company_type']"
            ]
          },
          "metadata": {
            "tags": []
          },
          "execution_count": 61
        }
      ]
    },
    {
      "cell_type": "code",
      "metadata": {
        "id": "OyXJ8afe8XrO"
      },
      "source": [
        "feats = list(clf[0].transformers[0][2]) + list(clf[0].transformers_[1][1]['One Hot Encoding']\\\n",
        "                   .get_feature_names(['gender','relevent_experience','enrolled_university','education_level','major_discipline', 'experience', 'company_size', 'company_type']))"
      ],
      "execution_count": null,
      "outputs": []
    },
    {
      "cell_type": "code",
      "metadata": {
        "id": "4xo5sxpr8bcW"
      },
      "source": [
        "varimpt = pd.DataFrame({'label':feats, 'Varimpt': list(clf[1].coef_.flatten())})"
      ],
      "execution_count": null,
      "outputs": []
    },
    {
      "cell_type": "code",
      "metadata": {
        "colab": {
          "base_uri": "https://localhost:8080/",
          "height": 613
        },
        "id": "kYV711rh-OOq",
        "outputId": "c6eeae4e-8229-4244-cfb1-acc80c3927ff"
      },
      "source": [
        "varimpt.set_index('label').sort_values(by='Varimpt').plot(kind='barh',figsize=(10,10))"
      ],
      "execution_count": null,
      "outputs": [
        {
          "output_type": "execute_result",
          "data": {
            "text/plain": [
              "<matplotlib.axes._subplots.AxesSubplot at 0x7f650d793f50>"
            ]
          },
          "metadata": {
            "tags": []
          },
          "execution_count": 74
        },
        {
          "output_type": "display_data",
          "data": {
            "image/png": "[encoded data removed]",
            "text/plain": [
              "<Figure size 720x720 with 1 Axes>"
            ]
          },
          "metadata": {
            "tags": [],
            "needs_background": "light"
          }
        }
      ]
    },
    {
      "cell_type": "code",
      "metadata": {
        "colab": {
          "base_uri": "https://localhost:8080/",
          "height": 298
        },
        "id": "nbjMcVCn8i3W",
        "outputId": "97649b64-e6c6-4809-ec56-244104576880"
      },
      "source": [
        "import sklearn.metrics as metrics\n",
        "probs = clf.predict_proba(X_test)\n",
        "preds = probs[:,1]\n",
        "fpr,tpr, threshold = metrics.roc_curve(y_test,preds)\n",
        "roc_auc = metrics.auc(fpr,tpr)\n",
        "\n",
        "import matplotlib.pyplot as plt\n",
        "plt.title('Reciever Operating Characteristic')\n",
        "plt.plot(fpr,tpr,'b',label='AUC = %0.2f' % roc_auc)\n",
        "plt.legend(loc='lower right')\n",
        "plt.plot([0,1], [0,1], 'r--')\n",
        "plt.xlim([0,1])\n",
        "plt.ylim([0,1])\n",
        "plt.ylabel('True Positive Rate')\n",
        "plt.xlabel('False Positive Rate')\n",
        "plt.show()"
      ],
      "execution_count": null,
      "outputs": [
        {
          "output_type": "display_data",
          "data": {
            "image/png": "[encoded data removed]",
            "text/plain": [
              "<Figure size 432x288 with 1 Axes>"
            ]
          },
          "metadata": {
            "tags": [],
            "needs_background": "light"
          }
        }
      ]
    },
    {
      "cell_type": "markdown",
      "metadata": {
        "id": "A0EX7OK9-XdE"
      },
      "source": [
        "This shows 0.73 AUC which is quite decent as a baseline model."
      ]
    },
    {
      "cell_type": "code",
      "metadata": {
        "id": "MTicDkfI8moV"
      },
      "source": [
        "predictions = clf.predict(X_test)"
      ],
      "execution_count": null,
      "outputs": []
    },
    {
      "cell_type": "code",
      "metadata": {
        "colab": {
          "base_uri": "https://localhost:8080/"
        },
        "id": "kiYc3VBF82Ae",
        "outputId": "49fd89a9-e1af-4c21-d999-5b527c7abd03"
      },
      "source": [
        "from sklearn.metrics import confusion_matrix, accuracy_score, classification_report\n",
        "print(classification_report(y_test,predictions))"
      ],
      "execution_count": null,
      "outputs": [
        {
          "output_type": "stream",
          "text": [
            "              precision    recall  f1-score   support\n",
            "\n",
            "         0.0       0.86      0.96      0.91      1867\n",
            "         1.0       0.53      0.24      0.33       372\n",
            "\n",
            "    accuracy                           0.84      2239\n",
            "   macro avg       0.70      0.60      0.62      2239\n",
            "weighted avg       0.81      0.84      0.81      2239\n",
            "\n"
          ],
          "name": "stdout"
        }
      ]
    },
    {
      "cell_type": "code",
      "metadata": {
        "colab": {
          "base_uri": "https://localhost:8080/",
          "height": 316
        },
        "id": "ckR2ISsZ85DW",
        "outputId": "c8074b15-9af4-4b1f-9d68-e6b2cb979c06"
      },
      "source": [
        "plt.hist(df['training_hours'], bins=23, alpha=0.5, label='Target - 1')\n",
        "plt.hist(df1['training_hours'], bins=23, alpha=0.5, label='Target - 0')\n",
        "plt.legend(loc='upper right')\n",
        "plt.title('Histogram')\n",
        "plt.xlabel('training_hours')\n",
        "plt.ylabel('count')\n",
        "plt.show"
      ],
      "execution_count": null,
      "outputs": [
        {
          "output_type": "execute_result",
          "data": {
            "text/plain": [
              "<function matplotlib.pyplot.show>"
            ]
          },
          "metadata": {
            "tags": []
          },
          "execution_count": 71
        },
        {
          "output_type": "display_data",
          "data": {
            "image/png": "[encoded data removed]",
            "text/plain": [
              "<Figure size 432x288 with 1 Axes>"
            ]
          },
          "metadata": {
            "tags": [],
            "needs_background": "light"
          }
        }
      ]
    },
    {
      "cell_type": "code",
      "metadata": {
        "id": "3MJ1AmEA89ar"
      },
      "source": [
        ""
      ],
      "execution_count": null,
      "outputs": []
    }
  ]
}